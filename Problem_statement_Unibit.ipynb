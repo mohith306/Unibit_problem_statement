{
 "cells": [
  {
   "cell_type": "markdown",
   "id": "be101867",
   "metadata": {},
   "source": [
    "#### Given an array of integers and a target value, you must determine which two integers' sum\n",
    "equals the target and return a 2D array. Then merge the array into a single array with sorting (\n",
    "ascending ) order, in the next step double the target value and find again the combination of\n",
    "digits (can be multiple digits ) that are equal to the double targeted value and returned into a 2D\n",
    "array.\n",
    "Sample Input : [1, 3, 2, 2, -4, -6, -2, 8];\n",
    "Target Value = 4,\n",
    "Output: First Combination For “4” : [ [1,3],[2,2],[-4,8],[-6,2] ];\n",
    "Merge Into a single Array : [-6,-4,1,2,2,2,3,8];\n",
    "Second Combination For “8” : [ [ 1,3,2,2], [8,-4,2,2],....,[n,n,n,n] ]"
   ]
  },
  {
   "cell_type": "code",
   "execution_count": 1,
   "id": "6d36afe6",
   "metadata": {},
   "outputs": [
    {
     "name": "stdout",
     "output_type": "stream",
     "text": [
      "First Combination for 4 : [[-4, 8], [1, 3], [2, 2]]\n",
      "Merged Array: [-6, -4, -2, 1, 2, 2, 3, 8]\n",
      "Second Combination for 8 : []\n"
     ]
    }
   ],
   "source": [
    "def find_sum_pairs(nums, target):\n",
    "    nums.sort()\n",
    "    result = []\n",
    "    left = 0\n",
    "    right = len(nums) - 1\n",
    "\n",
    "    while left < right:\n",
    "        current_sum = nums[left] + nums[right]\n",
    "        if current_sum == target:\n",
    "            result.append([nums[left], nums[right]])\n",
    "            left += 1\n",
    "            right -= 1\n",
    "        elif current_sum < target:\n",
    "            left += 1\n",
    "        else:\n",
    "            right -= 1\n",
    "\n",
    "    return result\n",
    "\n",
    "\n",
    "def merge_and_sort(nums):\n",
    "    return sorted(nums)\n",
    "\n",
    "\n",
    "def find_double_combinations(nums, target):\n",
    "    nums.sort()\n",
    "    result = []\n",
    "    left = 0\n",
    "    right = len(nums) - 1\n",
    "    target *= 2\n",
    "\n",
    "    while left < right:\n",
    "        current_sum = nums[left] + nums[right]\n",
    "        if current_sum == target:\n",
    "            result.append(nums[left:right+1])\n",
    "            left += 1\n",
    "            right -= 1\n",
    "        elif current_sum < target:\n",
    "            left += 1\n",
    "        else:\n",
    "            right -= 1\n",
    "\n",
    "    return result\n",
    "\n",
    "\n",
    "# Sample input\n",
    "input_array = [1, 3, 2, 2, -4, -6, -2, 8]\n",
    "target_value = 4\n",
    "\n",
    "# Find combinations for target_value\n",
    "sum_pairs = find_sum_pairs(input_array, target_value)\n",
    "print(\"First Combination for\", target_value, \":\", sum_pairs)\n",
    "\n",
    "# Merge and sort the array\n",
    "merged_array = merge_and_sort(input_array)\n",
    "print(\"Merged Array:\", merged_array)\n",
    "\n",
    "# Find combinations for doubled target_value\n",
    "doubled_target = target_value * 2\n",
    "double_combinations = find_double_combinations(merged_array, doubled_target)\n",
    "print(\"Second Combination for\", doubled_target, \":\", double_combinations)\n"
   ]
  },
  {
   "cell_type": "markdown",
   "id": "86408fea",
   "metadata": {},
   "source": [
    "#### \"note : Since there are no combinations of digits in the merged array that equal the double target value of 8, the output for the second combination is an empty list.\""
   ]
  },
  {
   "cell_type": "code",
   "execution_count": null,
   "id": "169a9093",
   "metadata": {},
   "outputs": [],
   "source": []
  }
 ],
 "metadata": {
  "kernelspec": {
   "display_name": "Python 3 (ipykernel)",
   "language": "python",
   "name": "python3"
  },
  "language_info": {
   "codemirror_mode": {
    "name": "ipython",
    "version": 3
   },
   "file_extension": ".py",
   "mimetype": "text/x-python",
   "name": "python",
   "nbconvert_exporter": "python",
   "pygments_lexer": "ipython3",
   "version": "3.10.9"
  }
 },
 "nbformat": 4,
 "nbformat_minor": 5
}
